{
 "cells": [
  {
   "cell_type": "code",
   "execution_count": 1,
   "metadata": {},
   "outputs": [],
   "source": [
    "import smtplib,ssl\n",
    "from email.message import EmailMessage\n",
    "from tkinter import *"
   ]
  },
  {
   "cell_type": "code",
   "execution_count": 2,
   "metadata": {},
   "outputs": [],
   "source": [
    "def send():\n",
    "    # calling values from entry boxes\n",
    "    subj = subTf.get()\n",
    "    frm = senTf.get()\n",
    "    to = recTf.get()\n",
    "    msg_body = bodyTf.get(\"1.0\",\"end-1c\")\n",
    "    password = \"Two step verification/app passwor\"\n",
    "   \n",
    "   # Email sending code starts here\n",
    "    msg = EmailMessage()\n",
    "    msg['subject'] = subj   \n",
    "    msg['from'] = frm\n",
    "    msg['to'] = to\n",
    "    msg.set_content(msg_body)\n",
    "    \n",
    "    with smtplib.SMTP_SSL(\"smtp.gmail.com\",465) as smtp:\n",
    "        smtp.ehlo()\n",
    "        smtp.starttls\n",
    "        smtp.login(frm,password)\n",
    "        smtp.send_message(msg)\n",
    "\n",
    "# gui config\n",
    "ws = Tk()\n",
    "ws.title(\"Sending Email via Python\")\n",
    "ws.geometry(\"500x400\")\n",
    "\n",
    "\n",
    "senLb = Label(ws, text=\"From\")\n",
    "recLb = Label(ws, text=\"To\")\n",
    "subLb = Label(ws, text=\"Subject\")\n",
    "bodyF = LabelFrame(ws, text=\"Body\")\n",
    "sendbtn = Button(ws, text=\"Send\", padx=20, pady=10, command=send)\n",
    "\n",
    "\n",
    "senTf = Entry(ws, width=50)\n",
    "recTf = Entry(ws, width=50)\n",
    "subTf = Entry(ws, width=50)\n",
    "bodyTf = Text(bodyF, width=50)\n",
    "\n",
    "senLb.place(x=50, y=20, anchor=CENTER)\n",
    "recLb.place(x=50, y=60, anchor=CENTER)\n",
    "subLb.place(x=50, y=100, anchor=CENTER)\n",
    "bodyF.place(x=230, y=230, height=200, width=350, anchor=CENTER)\n",
    "\n",
    "sendbtn.place(x=230, y=360, anchor=CENTER)\n",
    "\n",
    "senTf.place(x=250, y=20, anchor=CENTER)\n",
    "recTf.place(x=250, y=60, anchor=CENTER)\n",
    "subTf.place(x=250, y=100, anchor=CENTER)\n",
    "bodyTf.pack()\n",
    "\n",
    "# infinite loop\n",
    "ws.mainloop()\n"
   ]
  },
  {
   "cell_type": "markdown",
   "metadata": {},
   "source": [
    "Follow this article: If you are facing authentication errors\n",
    "https://exerror.com/smtplib-smtpauthenticationerror-username-and-password-not-accepted/"
   ]
  },
  {
   "cell_type": "code",
   "execution_count": null,
   "metadata": {},
   "outputs": [],
   "source": []
  },
  {
   "cell_type": "code",
   "execution_count": null,
   "metadata": {},
   "outputs": [],
   "source": []
  }
 ],
 "metadata": {
  "kernelspec": {
   "display_name": "Python 3",
   "language": "python",
   "name": "python3"
  },
  "language_info": {
   "codemirror_mode": {
    "name": "ipython",
    "version": 3
   },
   "file_extension": ".py",
   "mimetype": "text/x-python",
   "name": "python",
   "nbconvert_exporter": "python",
   "pygments_lexer": "ipython3",
   "version": "3.7.7"
  }
 },
 "nbformat": 4,
 "nbformat_minor": 4
}
